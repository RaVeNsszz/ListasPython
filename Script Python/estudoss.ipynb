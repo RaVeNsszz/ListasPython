{
 "cells": [
  {
   "cell_type": "code",
   "execution_count": null,
   "metadata": {},
   "outputs": [],
   "source": [
    "print(\"Informe um número natural, como representação do lado de um quadrado\")\n",
    "num = float(input(\"Lado: \"))\n",
    "perimetro = num * 4\n",
    "#multiplicar o comprimento do seu lado por 4.\n",
    "area = num*num\n",
    "#multiplicando a medida do comprimento pela medida da largura.\n",
    "print(\"\"\"\n",
    "O perímetro de um quadrado de lado {} será {}\n",
    "e a área de {}\n",
    "\"\"\".forma(num,perimetro,area))"
   ]
  }
 ],
 "metadata": {
  "language_info": {
   "name": "python"
  },
  "orig_nbformat": 4
 },
 "nbformat": 4,
 "nbformat_minor": 2
}
